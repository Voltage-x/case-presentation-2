{
 "cells": [
  {
   "cell_type": "code",
   "execution_count": 1,
   "metadata": {
    "scrolled": true
   },
   "outputs": [
    {
     "name": "stderr",
     "output_type": "stream",
     "text": [
      "100%|██████████| 3222/3222 [00:00<00:00, 409727.66it/s]"
     ]
    },
    {
     "name": "stdout",
     "output_type": "stream",
     "text": [
      "ID_6431af929 not found\n",
      "making records...\n"
     ]
    },
    {
     "name": "stderr",
     "output_type": "stream",
     "text": [
      "\n",
      "100%|██████████| 537/537 [00:04<00:00, 116.46it/s]\n"
     ]
    }
   ],
   "source": [
    "import sys\n",
    "sys.path.append(\"..\")\n",
    "\n",
    "import argparse\n",
    "import functools\n",
    "import pickle\n",
    "from multiprocessing import Pool\n",
    "import copy\n",
    "\n",
    "import pydicom\n",
    "import pandas as pd\n",
    "from tqdm import tqdm\n",
    "import numpy as np\n",
    "import os\n",
    "np.seterr(over='ignore')\n",
    "\n",
    "from utils import misc\n",
    "\n",
    "exist = []\n",
    "f = open('/home/islab/kaggle-rsna-intracranial-hemorrhage/src/preprocess/val_label.pkl', 'rb')  \n",
    "exist = pickle.load(f) \n",
    "\n",
    "new_exist = [s.strip('.dcm') for s in exist]\n",
    "\n",
    "df_input = pd.read_csv('stage_2_train.csv')\n",
    "df_input = df_input[df_input.ID.str.contains('|'.join(new_exist))]\n",
    "\n",
    "def group_labels_by_id(df):\n",
    "    ids = {}\n",
    "    for row in tqdm(df.itertuples(), total=len(df)):\n",
    "        prefix, id, label = row.ID.split('_')\n",
    "        id = '%s_%s' % (prefix, id)\n",
    "        if id not in ids:\n",
    "            ids[id] = []\n",
    "        if row.Label == 1: \n",
    "            ids[id].append(label)\n",
    "    return ids\n",
    "\n",
    "def remove_corrupted_images(ids):\n",
    "    ids = ids.copy()\n",
    "    \n",
    "    for id in ['ID_6431af929']:\n",
    "        try:\n",
    "            ids.pop(id) \n",
    "        except KeyError as e:\n",
    "            print('%s not found' % id)\n",
    "        else:\n",
    "            print('removed %s' % id)\n",
    "\n",
    "    return ids\n",
    "\n",
    "def create_record(item, dirname):\n",
    "    id, labels = item\n",
    "    \n",
    "    path = '%s/%s.dcm' % (dirname, id)\n",
    "    dicom = pydicom.dcmread(path)\n",
    "    \n",
    "    record = {\n",
    "        'ID': id,\n",
    "        'labels': ' '.join(labels),\n",
    "        'n_label': len(labels),\n",
    "    }\n",
    "    record.update(misc.get_dicom_raw(dicom))\n",
    "\n",
    "    raw = dicom.pixel_array\n",
    "    slope = float(record['RescaleSlope'])\n",
    "    intercept = float(record['RescaleIntercept'])\n",
    "    center = misc.get_dicom_value(record['WindowCenter'])\n",
    "    width = misc.get_dicom_value(record['WindowWidth'])\n",
    "    bits= record['BitsStored']\n",
    "    pixel = record['PixelRepresentation']\n",
    "\n",
    "    image = misc.rescale_image(raw, slope, intercept, bits, pixel)\n",
    "    doctor = misc.apply_window(image, center, width)\n",
    "    brain = misc.apply_window(image, 40, 80)\n",
    "\n",
    "    record.update({\n",
    "        'raw_max': raw.max(),\n",
    "        'raw_min': raw.min(),\n",
    "        'raw_mean': raw.mean(),\n",
    "        'raw_diff': raw.max() - raw.min(),\n",
    "        'doctor_max': doctor.max(),\n",
    "        'doctor_min': doctor.min(),\n",
    "        'doctor_mean': doctor.mean(),\n",
    "        'doctor_diff': doctor.max() - doctor.min(),\n",
    "        'brain_max': brain.max(),\n",
    "        'brain_min': brain.min(),\n",
    "        'brain_mean': brain.mean(),\n",
    "        'brain_diff': brain.max() - brain.min(),\n",
    "        'brain_ratio': misc.get_windowed_ratio(image, 40, 80),\n",
    "    })\n",
    "    return record\n",
    "\n",
    "def create_df(ids):\n",
    "    print('making records...')\n",
    "    with Pool(6) as pool:\n",
    "        records = list(tqdm(\n",
    "            iterable=pool.imap_unordered(\n",
    "                functools.partial(create_record, dirname='/data/rsna-intracranial-hemorrhage-detection/stage_2_train/'),\n",
    "                ids.items()\n",
    "            ),\n",
    "            total=len(ids),\n",
    "        ))\n",
    "    return pd.DataFrame(records).sort_values('ID').reset_index(drop=True)\n",
    "\n",
    "ids = remove_corrupted_images(group_labels_by_id(df_input))\n",
    "output = create_df(ids)"
   ]
  },
  {
   "cell_type": "code",
   "execution_count": 12,
   "metadata": {},
   "outputs": [
    {
     "data": {
      "text/html": [
       "<div>\n",
       "<style scoped>\n",
       "    .dataframe tbody tr th:only-of-type {\n",
       "        vertical-align: middle;\n",
       "    }\n",
       "\n",
       "    .dataframe tbody tr th {\n",
       "        vertical-align: top;\n",
       "    }\n",
       "\n",
       "    .dataframe thead th {\n",
       "        text-align: right;\n",
       "    }\n",
       "</style>\n",
       "<table border=\"1\" class=\"dataframe\">\n",
       "  <thead>\n",
       "    <tr style=\"text-align: right;\">\n",
       "      <th></th>\n",
       "      <th>ID</th>\n",
       "      <th>labels</th>\n",
       "      <th>PatientID</th>\n",
       "      <th>WindowCenter</th>\n",
       "      <th>WindowWidth</th>\n",
       "      <th>RescaleIntercept</th>\n",
       "      <th>RescaleSlope</th>\n",
       "      <th>Position3</th>\n",
       "      <th>PositionOrd</th>\n",
       "      <th>LeftLabel</th>\n",
       "      <th>RightLabel</th>\n",
       "      <th>BitsStored</th>\n",
       "      <th>PixelRepresentation</th>\n",
       "      <th>brain_ratio</th>\n",
       "      <th>brain_diff</th>\n",
       "      <th>fold</th>\n",
       "    </tr>\n",
       "  </thead>\n",
       "  <tbody>\n",
       "    <tr>\n",
       "      <td>111</td>\n",
       "      <td>ID_9f0dc2c71</td>\n",
       "      <td></td>\n",
       "      <td>ID_3c47afea</td>\n",
       "      <td>36</td>\n",
       "      <td>80</td>\n",
       "      <td>-1024.0</td>\n",
       "      <td>1.0</td>\n",
       "      <td>911.700073</td>\n",
       "      <td>1.0</td>\n",
       "      <td></td>\n",
       "      <td></td>\n",
       "      <td>12</td>\n",
       "      <td>0</td>\n",
       "      <td>0.0</td>\n",
       "      <td>0.0</td>\n",
       "      <td>0</td>\n",
       "    </tr>\n",
       "  </tbody>\n",
       "</table>\n",
       "</div>"
      ],
      "text/plain": [
       "               ID labels    PatientID  WindowCenter  WindowWidth  \\\n",
       "111  ID_9f0dc2c71         ID_3c47afea            36           80   \n",
       "\n",
       "     RescaleIntercept  RescaleSlope   Position3  PositionOrd LeftLabel  \\\n",
       "111           -1024.0           1.0  911.700073          1.0             \n",
       "\n",
       "    RightLabel  BitsStored  PixelRepresentation  brain_ratio  brain_diff  fold  \n",
       "111                     12                    0          0.0         0.0     0  "
      ]
     },
     "execution_count": 12,
     "metadata": {},
     "output_type": "execute_result"
    }
   ],
   "source": [
    "output[output['brain_diff']==0]"
   ]
  },
  {
   "cell_type": "code",
   "execution_count": 3,
   "metadata": {},
   "outputs": [],
   "source": [
    "# with open('total_raw.pkl', 'wb') as f:\n",
    "#     pickle.dump(output, f)"
   ]
  },
  {
   "cell_type": "code",
   "execution_count": 4,
   "metadata": {},
   "outputs": [
    {
     "name": "stderr",
     "output_type": "stream",
     "text": [
      " 60%|██████    | 305/508 [00:00<00:00, 3046.02it/s]"
     ]
    },
    {
     "name": "stdout",
     "output_type": "stream",
     "text": [
      "defaultdict(<class 'int'>,\n",
      "            {'all': 537,\n",
      "             'any': 449,\n",
      "             'epidural': 91,\n",
      "             'intraparenchymal': 90,\n",
      "             'intraventricular': 92,\n",
      "             'negative': 88,\n",
      "             'subarachnoid': 89,\n",
      "             'subdural': 87})\n",
      "making adjacent labels...\n"
     ]
    },
    {
     "name": "stderr",
     "output_type": "stream",
     "text": [
      "\r",
      "100%|██████████| 508/508 [00:00<00:00, 2999.87it/s]"
     ]
    },
    {
     "name": "stdout",
     "output_type": "stream",
     "text": [
      "defaultdict(<class 'int'>,\n",
      "            {'all': 537,\n",
      "             'any': 449,\n",
      "             'epidural': 91,\n",
      "             'intraparenchymal': 90,\n",
      "             'intraventricular': 92,\n",
      "             'negative': 88,\n",
      "             'subarachnoid': 89,\n",
      "             'subdural': 87})\n"
     ]
    },
    {
     "name": "stderr",
     "output_type": "stream",
     "text": [
      "\n"
     ]
    }
   ],
   "source": [
    "import collections\n",
    "from pprint import pprint\n",
    "\n",
    "def show_distribution(dataset):\n",
    "    counter = collections.defaultdict(int)\n",
    "    for row in dataset.itertuples():\n",
    "        for label in row.labels.split():\n",
    "            counter[label] += 1\n",
    "        if not row.labels:\n",
    "            counter['negative'] += 1\n",
    "        counter['all'] += 1\n",
    "    pprint(counter)\n",
    "\n",
    "    \n",
    "def parse_position(df):\n",
    "    expanded = df.ImagePositionPatient.apply(lambda x: pd.Series(x))\n",
    "    expanded.columns = ['Position1', 'Position2', 'Position3']\n",
    "    return pd.concat([df, expanded], axis=1)\n",
    "\n",
    "def add_adjacent_labels(df):\n",
    "    df = df.sort_values('PositionOrd')\n",
    "\n",
    "    records = []\n",
    "    print('making adjacent labels...')\n",
    "    for index,group in tqdm(df.groupby('StudyInstanceUID')):\n",
    "\n",
    "        labels = list(group.labels)\n",
    "        for j,id in enumerate(group.ID):\n",
    "            if j == 0:\n",
    "                left = ''\n",
    "            else:\n",
    "                left = labels[j-1]\n",
    "            if j+1 == len(labels):\n",
    "                right = ''\n",
    "            else:\n",
    "                right = labels[j+1]\n",
    "\n",
    "            records.append({\n",
    "                'LeftLabel': left,\n",
    "                'RightLabel': right,\n",
    "                'ID': id,\n",
    "            })\n",
    "    return pd.merge(df, pd.DataFrame(records), on='ID')\n",
    "\n",
    "show_distribution(output)\n",
    "\n",
    "output = parse_position(output)\n",
    "\n",
    "output['WindowCenter'] = output.WindowCenter.apply(lambda x: misc.get_dicom_value(x))\n",
    "output['WindowWidth'] = output.WindowWidth.apply(lambda x: misc.get_dicom_value(x))\n",
    "output['PositionOrd'] = output.groupby('SeriesInstanceUID')[['Position3']].rank() / output.groupby('SeriesInstanceUID')[['Position3']].transform('count')\n",
    "\n",
    "output = add_adjacent_labels(output)\n",
    "output = output[['ID', 'labels', 'PatientID', 'WindowCenter', 'WindowWidth', 'RescaleIntercept', 'RescaleSlope', 'Position3', 'PositionOrd', 'LeftLabel', 'RightLabel', 'BitsStored', 'PixelRepresentation', 'brain_ratio', 'brain_diff']]\n",
    "\n",
    "show_distribution(output)"
   ]
  },
  {
   "cell_type": "code",
   "execution_count": 5,
   "metadata": {},
   "outputs": [],
   "source": [
    "# dic = {}\n",
    "# for classes in os.listdir(f'/home/islab/kaggle-rsna-intracranial-hemorrhage/TrainingData/'):\n",
    "#     for img in os.listdir(f'/home/islab/kaggle-rsna-intracranial-hemorrhage/TrainingData/{classes}/'):\n",
    "#         dic[img[:-4]] = classes\n",
    "        \n",
    "# for tmp in output.loc[output['labels'] == '']['ID']:\n",
    "#     output.loc[output['ID'] == tmp, 'labels'] = 'any'"
   ]
  },
  {
   "cell_type": "code",
   "execution_count": 6,
   "metadata": {},
   "outputs": [
    {
     "name": "stderr",
     "output_type": "stream",
     "text": [
      " 27%|██▋       | 134/498 [00:00<00:00, 667.12it/s]"
     ]
    },
    {
     "name": "stdout",
     "output_type": "stream",
     "text": [
      "making 1 folds...\n"
     ]
    },
    {
     "name": "stderr",
     "output_type": "stream",
     "text": [
      "100%|██████████| 498/498 [00:00<00:00, 663.60it/s]"
     ]
    },
    {
     "name": "stdout",
     "output_type": "stream",
     "text": [
      "Counter({(0, 'any'): 449,\n",
      "         (0, 'intraventricular'): 92,\n",
      "         (0, 'epidural'): 91,\n",
      "         (0, 'intraparenchymal'): 90,\n",
      "         (0, 'subarachnoid'): 89,\n",
      "         (0, 'subdural'): 87,\n",
      "         (0, ''): 87})\n"
     ]
    },
    {
     "name": "stderr",
     "output_type": "stream",
     "text": [
      "\n"
     ]
    }
   ],
   "source": [
    "import random\n",
    "\n",
    "def _make_folds(df, n_fold, seed):\n",
    "\n",
    "    counter_gt = collections.defaultdict(int)\n",
    "    for labels in df.labels.str.split():\n",
    "        for label in labels:\n",
    "            counter_gt[label] += 1\n",
    "\n",
    "    counter_folds = collections.Counter()\n",
    "\n",
    "    folds = {}\n",
    "    min_labels = {}\n",
    "    random.seed(seed)\n",
    "    groups = df.groupby('PatientID')\n",
    "    print('making %d folds...' % n_fold)\n",
    "    for patient_id, group in tqdm(groups, total=len(groups)):\n",
    "\n",
    "        labels = []\n",
    "        for row in group.itertuples():\n",
    "            for label in row.labels.split():\n",
    "                labels.append(label)\n",
    "        if not labels:\n",
    "            labels = ['']\n",
    "\n",
    "        count_labels = [counter_gt[label] for label in labels]\n",
    "        min_label = labels[np.argmin(count_labels)]\n",
    "        count_folds = [(f, counter_folds[(f, min_label)]) for f in range(n_fold)]\n",
    "        min_count = min([count for f,count in count_folds])\n",
    "        fold = random.choice([f for f,count in count_folds if count == min_count])\n",
    "        folds[patient_id] = fold\n",
    "\n",
    "        for label in labels:\n",
    "            counter_folds[(fold,label)] += 1\n",
    "\n",
    "    pprint(counter_folds)\n",
    "\n",
    "    return folds\n",
    "\n",
    "folds = _make_folds(output, 1, 42)"
   ]
  },
  {
   "cell_type": "code",
   "execution_count": 7,
   "metadata": {},
   "outputs": [
    {
     "data": {
      "text/plain": [
       "array(['epidural any', 'intraparenchymal any', 'subarachnoid any',\n",
       "       'intraventricular any', 'subdural any', ''], dtype=object)"
      ]
     },
     "execution_count": 7,
     "metadata": {},
     "output_type": "execute_result"
    }
   ],
   "source": [
    "output['labels'].unique()"
   ]
  },
  {
   "cell_type": "code",
   "execution_count": 8,
   "metadata": {},
   "outputs": [],
   "source": [
    "output['fold'] = output.PatientID.map(folds)"
   ]
  },
  {
   "cell_type": "code",
   "execution_count": 9,
   "metadata": {},
   "outputs": [],
   "source": [
    "# from sklearn.model_selection import train_test_split\n",
    "\n",
    "# train, val = train_test_split(output, test_size=0.1, stratify=output['labels'])"
   ]
  },
  {
   "cell_type": "code",
   "execution_count": 11,
   "metadata": {},
   "outputs": [],
   "source": [
    "# with open('train.pkl', 'wb') as f:\n",
    "#     pickle.dump(train, f)\n",
    "    \n",
    "with open('val.pkl', 'wb') as f:\n",
    "    pickle.dump(output, f)\n",
    "    \n",
    "# with open('total.pkl', 'wb') as f:\n",
    "#     pickle.dump(output, f)"
   ]
  }
 ],
 "metadata": {
  "kernelspec": {
   "display_name": "Python 3",
   "language": "python",
   "name": "python3"
  },
  "language_info": {
   "codemirror_mode": {
    "name": "ipython",
    "version": 3
   },
   "file_extension": ".py",
   "mimetype": "text/x-python",
   "name": "python",
   "nbconvert_exporter": "python",
   "pygments_lexer": "ipython3",
   "version": "3.7.4"
  }
 },
 "nbformat": 4,
 "nbformat_minor": 2
}
