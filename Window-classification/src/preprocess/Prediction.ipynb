{
 "cells": [
  {
   "cell_type": "code",
   "execution_count": 516,
   "metadata": {},
   "outputs": [
    {
     "data": {
      "text/html": [
       "<div>\n",
       "<style scoped>\n",
       "    .dataframe tbody tr th:only-of-type {\n",
       "        vertical-align: middle;\n",
       "    }\n",
       "\n",
       "    .dataframe tbody tr th {\n",
       "        vertical-align: top;\n",
       "    }\n",
       "\n",
       "    .dataframe thead th {\n",
       "        text-align: right;\n",
       "    }\n",
       "</style>\n",
       "<table border=\"1\" class=\"dataframe\">\n",
       "  <thead>\n",
       "    <tr style=\"text-align: right;\">\n",
       "      <th></th>\n",
       "      <th>ID</th>\n",
       "      <th>labels</th>\n",
       "      <th>PatientID</th>\n",
       "      <th>WindowCenter</th>\n",
       "      <th>WindowWidth</th>\n",
       "      <th>RescaleIntercept</th>\n",
       "      <th>RescaleSlope</th>\n",
       "      <th>Position3</th>\n",
       "      <th>PositionOrd</th>\n",
       "      <th>LeftLabel</th>\n",
       "      <th>RightLabel</th>\n",
       "      <th>BitsStored</th>\n",
       "      <th>PixelRepresentation</th>\n",
       "      <th>brain_ratio</th>\n",
       "      <th>brain_diff</th>\n",
       "    </tr>\n",
       "  </thead>\n",
       "  <tbody>\n",
       "    <tr>\n",
       "      <th>0</th>\n",
       "      <td>Test_001</td>\n",
       "      <td></td>\n",
       "      <td>ID_9df0f9aa</td>\n",
       "      <td>35</td>\n",
       "      <td>135</td>\n",
       "      <td>-1024.0</td>\n",
       "      <td>1.0</td>\n",
       "      <td>37.500000</td>\n",
       "      <td>1.0</td>\n",
       "      <td></td>\n",
       "      <td></td>\n",
       "      <td>16</td>\n",
       "      <td>1</td>\n",
       "      <td>0.143860</td>\n",
       "      <td>80.0</td>\n",
       "    </tr>\n",
       "    <tr>\n",
       "      <th>1</th>\n",
       "      <td>Test_002</td>\n",
       "      <td></td>\n",
       "      <td>ID_00859e11</td>\n",
       "      <td>40</td>\n",
       "      <td>150</td>\n",
       "      <td>-1024.0</td>\n",
       "      <td>1.0</td>\n",
       "      <td>76.016000</td>\n",
       "      <td>1.0</td>\n",
       "      <td></td>\n",
       "      <td></td>\n",
       "      <td>16</td>\n",
       "      <td>1</td>\n",
       "      <td>0.289101</td>\n",
       "      <td>80.0</td>\n",
       "    </tr>\n",
       "    <tr>\n",
       "      <th>2</th>\n",
       "      <td>Test_003</td>\n",
       "      <td></td>\n",
       "      <td>ID_d28d9540</td>\n",
       "      <td>40</td>\n",
       "      <td>80</td>\n",
       "      <td>-1024.0</td>\n",
       "      <td>1.0</td>\n",
       "      <td>169.275374</td>\n",
       "      <td>1.0</td>\n",
       "      <td></td>\n",
       "      <td></td>\n",
       "      <td>12</td>\n",
       "      <td>0</td>\n",
       "      <td>0.102123</td>\n",
       "      <td>80.0</td>\n",
       "    </tr>\n",
       "    <tr>\n",
       "      <th>3</th>\n",
       "      <td>Test_004</td>\n",
       "      <td></td>\n",
       "      <td>ID_78ce1b0d</td>\n",
       "      <td>30</td>\n",
       "      <td>80</td>\n",
       "      <td>-1024.0</td>\n",
       "      <td>1.0</td>\n",
       "      <td>216.173000</td>\n",
       "      <td>1.0</td>\n",
       "      <td></td>\n",
       "      <td></td>\n",
       "      <td>16</td>\n",
       "      <td>1</td>\n",
       "      <td>0.001240</td>\n",
       "      <td>80.0</td>\n",
       "    </tr>\n",
       "    <tr>\n",
       "      <th>4</th>\n",
       "      <td>Test_005</td>\n",
       "      <td></td>\n",
       "      <td>ID_08faadaf</td>\n",
       "      <td>36</td>\n",
       "      <td>80</td>\n",
       "      <td>-1024.0</td>\n",
       "      <td>1.0</td>\n",
       "      <td>121.000000</td>\n",
       "      <td>1.0</td>\n",
       "      <td></td>\n",
       "      <td></td>\n",
       "      <td>12</td>\n",
       "      <td>0</td>\n",
       "      <td>0.309010</td>\n",
       "      <td>80.0</td>\n",
       "    </tr>\n",
       "    <tr>\n",
       "      <th>...</th>\n",
       "      <td>...</td>\n",
       "      <td>...</td>\n",
       "      <td>...</td>\n",
       "      <td>...</td>\n",
       "      <td>...</td>\n",
       "      <td>...</td>\n",
       "      <td>...</td>\n",
       "      <td>...</td>\n",
       "      <td>...</td>\n",
       "      <td>...</td>\n",
       "      <td>...</td>\n",
       "      <td>...</td>\n",
       "      <td>...</td>\n",
       "      <td>...</td>\n",
       "      <td>...</td>\n",
       "    </tr>\n",
       "    <tr>\n",
       "      <th>595</th>\n",
       "      <td>Test_596</td>\n",
       "      <td></td>\n",
       "      <td>ID_ac57e226</td>\n",
       "      <td>30</td>\n",
       "      <td>80</td>\n",
       "      <td>-1024.0</td>\n",
       "      <td>1.0</td>\n",
       "      <td>95.537000</td>\n",
       "      <td>0.5</td>\n",
       "      <td></td>\n",
       "      <td></td>\n",
       "      <td>16</td>\n",
       "      <td>1</td>\n",
       "      <td>0.278336</td>\n",
       "      <td>80.0</td>\n",
       "    </tr>\n",
       "    <tr>\n",
       "      <th>596</th>\n",
       "      <td>Test_597</td>\n",
       "      <td></td>\n",
       "      <td>ID_4ecb1803</td>\n",
       "      <td>40</td>\n",
       "      <td>150</td>\n",
       "      <td>-1024.0</td>\n",
       "      <td>1.0</td>\n",
       "      <td>45.149000</td>\n",
       "      <td>1.0</td>\n",
       "      <td></td>\n",
       "      <td></td>\n",
       "      <td>16</td>\n",
       "      <td>1</td>\n",
       "      <td>0.198143</td>\n",
       "      <td>80.0</td>\n",
       "    </tr>\n",
       "    <tr>\n",
       "      <th>597</th>\n",
       "      <td>Test_598</td>\n",
       "      <td></td>\n",
       "      <td>ID_b4d1c8f5</td>\n",
       "      <td>35</td>\n",
       "      <td>135</td>\n",
       "      <td>-1024.0</td>\n",
       "      <td>1.0</td>\n",
       "      <td>117.432632</td>\n",
       "      <td>1.0</td>\n",
       "      <td></td>\n",
       "      <td></td>\n",
       "      <td>16</td>\n",
       "      <td>1</td>\n",
       "      <td>0.183155</td>\n",
       "      <td>80.0</td>\n",
       "    </tr>\n",
       "    <tr>\n",
       "      <th>598</th>\n",
       "      <td>Test_599</td>\n",
       "      <td></td>\n",
       "      <td>ID_991ad3c5</td>\n",
       "      <td>40</td>\n",
       "      <td>80</td>\n",
       "      <td>-1024.0</td>\n",
       "      <td>1.0</td>\n",
       "      <td>221.227522</td>\n",
       "      <td>1.0</td>\n",
       "      <td></td>\n",
       "      <td></td>\n",
       "      <td>12</td>\n",
       "      <td>0</td>\n",
       "      <td>0.330856</td>\n",
       "      <td>80.0</td>\n",
       "    </tr>\n",
       "    <tr>\n",
       "      <th>599</th>\n",
       "      <td>Test_600</td>\n",
       "      <td></td>\n",
       "      <td>ID_02ebf0a8</td>\n",
       "      <td>30</td>\n",
       "      <td>80</td>\n",
       "      <td>-1024.0</td>\n",
       "      <td>1.0</td>\n",
       "      <td>55.995659</td>\n",
       "      <td>1.0</td>\n",
       "      <td></td>\n",
       "      <td></td>\n",
       "      <td>16</td>\n",
       "      <td>1</td>\n",
       "      <td>0.150509</td>\n",
       "      <td>80.0</td>\n",
       "    </tr>\n",
       "  </tbody>\n",
       "</table>\n",
       "<p>600 rows × 15 columns</p>\n",
       "</div>"
      ],
      "text/plain": [
       "           ID labels    PatientID  WindowCenter  WindowWidth  \\\n",
       "0    Test_001         ID_9df0f9aa            35          135   \n",
       "1    Test_002         ID_00859e11            40          150   \n",
       "2    Test_003         ID_d28d9540            40           80   \n",
       "3    Test_004         ID_78ce1b0d            30           80   \n",
       "4    Test_005         ID_08faadaf            36           80   \n",
       "..        ...    ...          ...           ...          ...   \n",
       "595  Test_596         ID_ac57e226            30           80   \n",
       "596  Test_597         ID_4ecb1803            40          150   \n",
       "597  Test_598         ID_b4d1c8f5            35          135   \n",
       "598  Test_599         ID_991ad3c5            40           80   \n",
       "599  Test_600         ID_02ebf0a8            30           80   \n",
       "\n",
       "     RescaleIntercept  RescaleSlope   Position3  PositionOrd LeftLabel  \\\n",
       "0             -1024.0           1.0   37.500000          1.0             \n",
       "1             -1024.0           1.0   76.016000          1.0             \n",
       "2             -1024.0           1.0  169.275374          1.0             \n",
       "3             -1024.0           1.0  216.173000          1.0             \n",
       "4             -1024.0           1.0  121.000000          1.0             \n",
       "..                ...           ...         ...          ...       ...   \n",
       "595           -1024.0           1.0   95.537000          0.5             \n",
       "596           -1024.0           1.0   45.149000          1.0             \n",
       "597           -1024.0           1.0  117.432632          1.0             \n",
       "598           -1024.0           1.0  221.227522          1.0             \n",
       "599           -1024.0           1.0   55.995659          1.0             \n",
       "\n",
       "    RightLabel  BitsStored  PixelRepresentation  brain_ratio  brain_diff  \n",
       "0                       16                    1     0.143860        80.0  \n",
       "1                       16                    1     0.289101        80.0  \n",
       "2                       12                    0     0.102123        80.0  \n",
       "3                       16                    1     0.001240        80.0  \n",
       "4                       12                    0     0.309010        80.0  \n",
       "..         ...         ...                  ...          ...         ...  \n",
       "595                     16                    1     0.278336        80.0  \n",
       "596                     16                    1     0.198143        80.0  \n",
       "597                     16                    1     0.183155        80.0  \n",
       "598                     12                    0     0.330856        80.0  \n",
       "599                     16                    1     0.150509        80.0  \n",
       "\n",
       "[600 rows x 15 columns]"
      ]
     },
     "execution_count": 516,
     "metadata": {},
     "output_type": "execute_result"
    }
   ],
   "source": [
    "import pickle\n",
    "\n",
    "f = open('./test.pkl', 'rb')  \n",
    "test = pickle.load(f) \n",
    "test"
   ]
  },
  {
   "cell_type": "code",
   "execution_count": 565,
   "metadata": {},
   "outputs": [],
   "source": [
    "import numpy as np\n",
    "\n",
    "f = open('/home/islab/kaggle-rsna-intracranial-hemorrhage/model/model100_total/fold0_ep3_test_tta5.pkl', 'rb')  \n",
    "data = pickle.load(f) \n",
    "\n",
    "total = np.zeros([600,6])\n",
    "\n",
    "for i in range(5):\n",
    "    total += data[i]['outputs']\n",
    "\n",
    "    \n",
    "# f = open('/home/islab/kaggle-rsna-intracranial-hemorrhage/model/model110_total/fold0_ep3_test_tta5.pkl', 'rb')  \n",
    "# data2 = pickle.load(f) \n",
    "\n",
    "\n",
    "# for i in range(5):\n",
    "#     total += data2[i]['outputs']\n",
    "    \n",
    "    \n",
    "total = total / 5"
   ]
  },
  {
   "cell_type": "code",
   "execution_count": 568,
   "metadata": {},
   "outputs": [
    {
     "name": "stdout",
     "output_type": "stream",
     "text": [
      "Heathly threshold: 90, Others: 510\n"
     ]
    },
    {
     "data": {
      "image/png": "[encoded data removed]",
      "text/plain": [
       "<Figure size 432x288 with 1 Axes>"
      ]
     },
     "metadata": {
      "needs_background": "light"
     },
     "output_type": "display_data"
    }
   ],
   "source": [
    "import matplotlib.pyplot as plt\n",
    "%matplotlib inline\n",
    "any_pos = total[:,0]\n",
    "any_pos = np.where(any_pos > 0.5, 1, 0)\n",
    "#any_pos = np.where(np.max(total[:,1:],axis=1) > 0.25, 1, 0)\n",
    "print(f'Heathly threshold: {np.count_nonzero(any_pos==0)}, Others: {np.count_nonzero(any_pos==1)}')\n",
    "_ = plt.hist(any_pos)"
   ]
  },
  {
   "cell_type": "code",
   "execution_count": 574,
   "metadata": {},
   "outputs": [
    {
     "data": {
      "text/plain": [
       "<AxesSubplot:>"
      ]
     },
     "execution_count": 574,
     "metadata": {},
     "output_type": "execute_result"
    },
    {
     "data": {
      "image/png": "[encoded data removed]",
      "text/plain": [
       "<Figure size 432x288 with 1 Axes>"
      ]
     },
     "metadata": {
      "needs_background": "light"
     },
     "output_type": "display_data"
    }
   ],
   "source": [
    "dic = {0:'epidural', 1:'subdural', 2:'subarachnoid', 3:'intraventricular', 4:'intraparenchymal'}\n",
    "for i in range(600):\n",
    "    if total[i][0] <= 0.6:\n",
    "        test.at[i, 'labels'] = 'healthy'\n",
    "    else:\n",
    "        test.at[i, 'labels'] = dic[np.argmax(total[i][1:])]\n",
    "        \n",
    "test['labels'].hist(xrot=45)"
   ]
  },
  {
   "cell_type": "code",
   "execution_count": 575,
   "metadata": {},
   "outputs": [],
   "source": [
    "output = test.iloc[:,:2]\n",
    "output.to_excel(\"output2.xlsx\", header=False, index=False) "
   ]
  },
  {
   "cell_type": "code",
   "execution_count": 193,
   "metadata": {},
   "outputs": [],
   "source": [
    "# import pandas as pd\n",
    "# GT = pd.read_csv('testingdata_true.csv')\n",
    "# for i in range(536):\n",
    "#     GT['png'][i] = GT['png'][i][:-4]\n",
    "    \n",
    "# val = GT['png'].tolist()\n",
    "\n",
    "# with open('val_label.pkl', 'wb') as f:\n",
    "#     pickle.dump(val, f)"
   ]
  },
  {
   "cell_type": "code",
   "execution_count": 576,
   "metadata": {},
   "outputs": [],
   "source": [
    "import pandas as pd\n",
    "GT = pd.read_csv('testingdata_true.csv')\n",
    "for i in range(536):\n",
    "    GT['dcm'][i] = GT['dcm'][i][:-4]\n",
    "GT = GT.drop(columns=['png'])\n",
    "tmp = pd.merge(output,GT,left_on='ID', right_on='dcm')"
   ]
  },
  {
   "cell_type": "code",
   "execution_count": 577,
   "metadata": {},
   "outputs": [
    {
     "data": {
      "text/plain": [
       "ID        416\n",
       "labels    416\n",
       "dcm       416\n",
       "label     416\n",
       "dtype: int64"
      ]
     },
     "execution_count": 577,
     "metadata": {},
     "output_type": "execute_result"
    }
   ],
   "source": [
    "tmp[tmp['labels']==tmp['label']].count()"
   ]
  },
  {
   "cell_type": "code",
   "execution_count": 580,
   "metadata": {},
   "outputs": [
    {
     "data": {
      "text/plain": [
       "479"
      ]
     },
     "execution_count": 580,
     "metadata": {},
     "output_type": "execute_result"
    }
   ],
   "source": [
    "600-121"
   ]
  },
  {
   "cell_type": "code",
   "execution_count": 579,
   "metadata": {},
   "outputs": [
    {
     "data": {
      "text/plain": [
       "0.6933333333333334"
      ]
     },
     "execution_count": 579,
     "metadata": {},
     "output_type": "execute_result"
    }
   ],
   "source": [
    "416/"
   ]
  },
  {
   "cell_type": "code",
   "execution_count": 509,
   "metadata": {},
   "outputs": [
    {
     "name": "stdout",
     "output_type": "stream",
     "text": [
      "Heathly threshold: 84, Others: 516\n"
     ]
    },
    {
     "data": {
      "image/png": "[encoded data removed]",
      "text/plain": [
       "<Figure size 432x288 with 1 Axes>"
      ]
     },
     "metadata": {
      "needs_background": "light"
     },
     "output_type": "display_data"
    }
   ],
   "source": [
    "f = open('/home/islab/kaggle-rsna-intracranial-hemorrhage/meta/meta100_lgb.pkl', 'rb')  \n",
    "data1 = pickle.load(f) \n",
    "f = open('/home/islab/kaggle-rsna-intracranial-hemorrhage/meta/meta100_xgb.pkl', 'rb')  \n",
    "data2 = pickle.load(f) \n",
    "f = open('/home/islab/kaggle-rsna-intracranial-hemorrhage/meta/meta100_cat.pkl', 'rb')  \n",
    "data3 = pickle.load(f) \n",
    "\n",
    "total = ((data1[0]['outputs'])+(data2[0]['outputs'])+(data3[0]['outputs']))/3\n",
    "\n",
    "any_pos = np.where(total[:,0] > 0.4, 1, 0)\n",
    "print(f'Heathly threshold: {np.count_nonzero(any_pos==0)}, Others: {np.count_nonzero(any_pos==1)}')\n",
    "_ = plt.hist(any_pos)\n",
    "\n",
    "dic = {0:'epidural', 1:'subdural', 2:'subarachnoid', 3:'intraventricular', 4:'intraparenchymal'}\n",
    "for i in range(600):\n",
    "    if total[i][0] <= 0.4:\n",
    "        test.at[i, 'labels'] = 'healthy'\n",
    "    else:\n",
    "        test.at[i, 'labels'] = dic[np.argmax(total[i][1:])]"
   ]
  },
  {
   "cell_type": "code",
   "execution_count": 510,
   "metadata": {},
   "outputs": [
    {
     "data": {
      "text/plain": [
       "<AxesSubplot:>"
      ]
     },
     "execution_count": 510,
     "metadata": {},
     "output_type": "execute_result"
    },
    {
     "data": {
      "image/png": "[encoded data removed]",
      "text/plain": [
       "<Figure size 432x288 with 1 Axes>"
      ]
     },
     "metadata": {
      "needs_background": "light"
     },
     "output_type": "display_data"
    }
   ],
   "source": [
    "test['labels'].hist(xrot=45)"
   ]
  },
  {
   "cell_type": "code",
   "execution_count": 511,
   "metadata": {},
   "outputs": [],
   "source": [
    "output = test.iloc[:,:2]\n",
    "output.to_excel(\"output2.xlsx\", header=False, index=False) "
   ]
  }
 ],
 "metadata": {
  "kernelspec": {
   "display_name": "rsna",
   "language": "python",
   "name": "rsna"
  },
  "language_info": {
   "codemirror_mode": {
    "name": "ipython",
    "version": 3
   },
   "file_extension": ".py",
   "mimetype": "text/x-python",
   "name": "python",
   "nbconvert_exporter": "python",
   "pygments_lexer": "ipython3",
   "version": "3.8.5"
  }
 },
 "nbformat": 4,
 "nbformat_minor": 2
}
